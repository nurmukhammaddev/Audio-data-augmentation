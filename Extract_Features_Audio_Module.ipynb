{
  "nbformat": 4,
  "nbformat_minor": 0,
  "metadata": {
    "colab": {
      "provenance": [],
      "include_colab_link": true
    },
    "kernelspec": {
      "name": "python3",
      "display_name": "Python 3"
    },
    "language_info": {
      "name": "python"
    }
  },
  "cells": [
    {
      "cell_type": "markdown",
      "metadata": {
        "id": "view-in-github",
        "colab_type": "text"
      },
      "source": [
        "<a href=\"https://colab.research.google.com/github/nurmukhammaddev/Audio-data-augmentation/blob/main/Extract_Features_Audio_Module.ipynb\" target=\"_parent\"><img src=\"https://colab.research.google.com/assets/colab-badge.svg\" alt=\"Open In Colab\"/></a>"
      ]
    },
    {
      "cell_type": "code",
      "execution_count": 1,
      "metadata": {
        "id": "HymUqL3qj6TB"
      },
      "outputs": [],
      "source": [
        "import librosa\n",
        "import pandas as pd\n",
        "import os\n",
        "from scipy.stats import  kurtosis, mode"
      ]
    },
    {
      "cell_type": "code",
      "source": [
        "def extract_mean_frequency(y, sr=22050):\n",
        "    return librosa.feature.spectral_centroid(y=y, sr=sr).mean()"
      ],
      "metadata": {
        "id": "M-TnRztzl4TB"
      },
      "execution_count": 2,
      "outputs": []
    },
    {
      "cell_type": "code",
      "source": [
        "audio_file = \"/content/common_voice_uz_38196557.mp3\""
      ],
      "metadata": {
        "id": "fhzQsR0ql4pR"
      },
      "execution_count": 15,
      "outputs": []
    },
    {
      "cell_type": "code",
      "source": [
        "data, sr = librosa.load(audio_file)"
      ],
      "metadata": {
        "id": "WlsCuxa6l4sY"
      },
      "execution_count": 16,
      "outputs": []
    },
    {
      "cell_type": "code",
      "source": [
        "data"
      ],
      "metadata": {
        "colab": {
          "base_uri": "https://localhost:8080/"
        },
        "id": "2IsMFAmhl4vS",
        "outputId": "c9ffc551-8f30-443b-a4cf-d54d87309117"
      },
      "execution_count": 17,
      "outputs": [
        {
          "output_type": "execute_result",
          "data": {
            "text/plain": [
              "array([-1.8018204e-13,  3.3075097e-13, -1.5452331e-13, ...,\n",
              "        0.0000000e+00,  0.0000000e+00,  0.0000000e+00], dtype=float32)"
            ]
          },
          "metadata": {},
          "execution_count": 17
        }
      ]
    },
    {
      "cell_type": "code",
      "source": [
        "menafreq = extract_mean_frequency(data)"
      ],
      "metadata": {
        "id": "6rgT_L_gmSJJ"
      },
      "execution_count": 18,
      "outputs": []
    },
    {
      "cell_type": "code",
      "source": [
        "menafreq"
      ],
      "metadata": {
        "colab": {
          "base_uri": "https://localhost:8080/"
        },
        "id": "rZ0dVdOKmYIA",
        "outputId": "73f00727-66bc-4093-942b-805ec979fc28"
      },
      "execution_count": 19,
      "outputs": [
        {
          "output_type": "execute_result",
          "data": {
            "text/plain": [
              "1429.1259942249133"
            ]
          },
          "metadata": {},
          "execution_count": 19
        }
      ]
    },
    {
      "cell_type": "code",
      "source": [
        "def extract_standard_deviation(y, sr):\n",
        "    return librosa.feature.spectral_centroid(y=y, sr=sr).std()"
      ],
      "metadata": {
        "id": "moss_fcMmZFV"
      },
      "execution_count": 20,
      "outputs": []
    },
    {
      "cell_type": "code",
      "source": [
        "def extract_median(y, sr):\n",
        "    return librosa.feature.spectral_centroid(y=y, sr=sr)[0]"
      ],
      "metadata": {
        "id": "DYbdFSZgmeZv"
      },
      "execution_count": 21,
      "outputs": []
    },
    {
      "cell_type": "code",
      "source": [
        "def extract_kurtosis(y):\n",
        "    return kurtosis(y)\n"
      ],
      "metadata": {
        "id": "SfHpYaT9meja"
      },
      "execution_count": 22,
      "outputs": []
    },
    {
      "cell_type": "code",
      "source": [
        "def extract_spectral_flatness(y):\n",
        "    return librosa.feature.spectral_flatness(y=y)[0]\n",
        "\n",
        "def extract_mode(y):\n",
        "    return mode(y)[0]\n",
        "\n",
        "def extract_centroid(y, sr):\n",
        "    return librosa.feature.spectral_centroid(y=y, sr=sr)[0]\n",
        "\n",
        "def extract_peak(y, sr):\n",
        "    return librosa.feature.spectral_rolloff(y=y, sr=sr)[0]\n",
        "\n",
        "def extract_mean_function(y, sr):\n",
        "    return librosa.feature.mfcc(y=y, sr=sr)[0].mean()\n",
        "\n",
        "def extract_minimum_function(y, sr):\n",
        "    return librosa.feature.mfcc(y=y, sr=sr).min()\n",
        "\n",
        "def extract_maximum_function(y, sr):\n",
        "    return librosa.feature.mfcc(y=y, sr=sr).max()\n",
        "\n",
        "def extract_mean_dom(y, sr):\n",
        "    return librosa.feature.spectral_bandwidth(y=y, sr=sr)[0].mean()\n",
        "\n",
        "def extract_minimum_dom(y, sr):\n",
        "    return librosa.feature.spectral_bandwidth(y=y, sr=sr).min()\n",
        "\n",
        "def extract_maximum_dom(y, sr):\n",
        "    return librosa.feature.spectral_bandwidth(y=y, sr=sr).max()\n",
        "\n",
        "def extract_dfrange(maxdom, mindom):\n",
        "    return maxdom - mindom\n",
        "\n",
        "def extract_modindx(y, sr):\n",
        "    return librosa.feature.tempogram(y=y, sr=sr).mean()"
      ],
      "metadata": {
        "id": "3Gjw_lbMm096"
      },
      "execution_count": 23,
      "outputs": []
    },
    {
      "cell_type": "code",
      "source": [
        "def extract_features(audio_file):\n",
        "    y, sr = librosa.load(audio_file)\n",
        "\n",
        "    meanfreq = extract_mean_frequency(y, sr)\n",
        "    sd = extract_standard_deviation(y, sr)\n",
        "    median = extract_median(y, sr)\n",
        "    kurt = extract_kurtosis(y)\n",
        "    sfm = extract_spectral_flatness(y)\n",
        "    mode_ = extract_mode(y)\n",
        "    centroid = extract_centroid(y, sr)\n",
        "    peakf = extract_peak(y, sr)\n",
        "    meanfun = extract_mean_function(y, sr)\n",
        "    minfun = extract_minimum_function(y, sr)\n",
        "    maxfun = extract_maximum_function(y, sr)\n",
        "    meandom = extract_mean_dom(y, sr)\n",
        "    mindom = extract_minimum_dom(y, sr)\n",
        "    maxdom = extract_maximum_dom(y, sr)\n",
        "    dfrange = extract_dfrange(maxdom, mindom)\n",
        "    modindx = extract_modindx(y, sr)\n",
        "\n",
        "    features = {\n",
        "        'meanfreq': meanfreq,\n",
        "        'sd': sd,\n",
        "        'median': median,\n",
        "        'kurt': kurt,\n",
        "        'sfm': sfm,\n",
        "        'mode': mode_,\n",
        "        'centroid': centroid,\n",
        "        'peakf': peakf,\n",
        "        'meanfun': meanfun,\n",
        "        'minfun': minfun,\n",
        "        'maxfun': maxfun,\n",
        "        'meandom': meandom,\n",
        "        'mindom': mindom,\n",
        "        'maxdom': maxdom,\n",
        "        'dfrange': dfrange,\n",
        "        'modindx': modindx\n",
        "    }\n",
        "\n",
        "    return features"
      ],
      "metadata": {
        "id": "N90cSVuAm9AJ"
      },
      "execution_count": 24,
      "outputs": []
    },
    {
      "cell_type": "code",
      "source": [
        "def process_audio_directory(input_dir, output_file):\n",
        "    # Initialize an empty list to store features\n",
        "    features_list = []\n",
        "    # Loop through all audio files in the directory\n",
        "    for filename in os.listdir(input_dir):\n",
        "        if filename.endswith('.mp3'):\n",
        "            audio_file = os.path.join(input_dir, filename)\n",
        "            features = extract_features(audio_file)\n",
        "            features_list.append(features)\n",
        "\n",
        "    # Convert the list of features to a DataFrame\n",
        "    df = pd.DataFrame(features_list)\n",
        "\n",
        "    # Save the DataFrame to a CSV file\n",
        "    df.to_csv(output_file, index=False)\n",
        "\n",
        "# Example usage:\n",
        "input_directory = 'clips/'\n",
        "output_csv_file = 'output_features_new.csv'\n",
        "process_audio_directory(input_directory, output_csv_file)\n"
      ],
      "metadata": {
        "id": "ldJKRGgJnAgb"
      },
      "execution_count": 25,
      "outputs": []
    },
    {
      "cell_type": "code",
      "source": [],
      "metadata": {
        "id": "_tj3nhG2nLHN"
      },
      "execution_count": null,
      "outputs": []
    }
  ]
}